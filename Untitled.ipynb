{
 "cells": [
  {
   "cell_type": "markdown",
   "id": "d2ec91bd",
   "metadata": {},
   "source": [
    "## Installing Libraries"
   ]
  },
  {
   "cell_type": "code",
   "execution_count": 55,
   "id": "8d7b4a87",
   "metadata": {},
   "outputs": [],
   "source": [
    "import requests\n",
    "from bs4 import BeautifulSoup"
   ]
  },
  {
   "cell_type": "markdown",
   "id": "dba415bd",
   "metadata": {},
   "source": [
    "## Requesting the website using requests.session()"
   ]
  },
  {
   "cell_type": "code",
   "execution_count": 57,
   "id": "8d6f68c0",
   "metadata": {
    "scrolled": true
   },
   "outputs": [],
   "source": [
    "with requests.session() as s:\n",
    "    r = s.get('https://en.wikipedia.org/wiki/Graphic_Era')"
   ]
  },
  {
   "cell_type": "markdown",
   "id": "93976b4d",
   "metadata": {},
   "source": [
    "## Seprating the links using BeautifulSoup"
   ]
  },
  {
   "cell_type": "code",
   "execution_count": 59,
   "id": "691c02e3",
   "metadata": {},
   "outputs": [],
   "source": [
    "soup = BeautifulSoup(r.text, 'lxml')\n",
    "tags = soup.find('div',{'class':'navbox'})\n",
    "tags = tags.table.tbody.find_all('tr')[1:]\n",
    "a_tags = [li.a for tag in tags for li in tag.find_all('li')]\n",
    "universities = []\n",
    "for a_tag in a_tags:\n",
    "    try:\n",
    "        link = 'https://en.wikipedia.org/'+a_tag['href']\n",
    "        title = a_tag['title']\n",
    "    except:\n",
    "        pass\n",
    "    else:\n",
    "        universities.append([link,title])"
   ]
  },
  {
   "cell_type": "markdown",
   "id": "8fb3d469",
   "metadata": {},
   "source": [
    "## Printing the data in required form"
   ]
  },
  {
   "cell_type": "code",
   "execution_count": 60,
   "id": "f972dc3f",
   "metadata": {
    "scrolled": true
   },
   "outputs": [
    {
     "name": "stdout",
     "output_type": "stream",
     "text": [
      "Total Number of Universities: 31\n",
      "\n",
      "University Name: Hemwati Nandan Bahuguna Garhwal University\n",
      "Wikipedia link: https://en.wikipedia.org//wiki/Hemwati_Nandan_Bahuguna_Garhwal_University\n",
      "\n",
      "University Name: Doon University\n",
      "Wikipedia link: https://en.wikipedia.org//wiki/Doon_University\n",
      "\n",
      "University Name: G. B. Pant University of Agriculture and Technology\n",
      "Wikipedia link: https://en.wikipedia.org//wiki/G._B._Pant_University_of_Agriculture_and_Technology\n",
      "\n",
      "University Name: Hemwati Nandan Bahuguna Uttarakhand Medical Education University\n",
      "Wikipedia link: https://en.wikipedia.org//wiki/Hemwati_Nandan_Bahuguna_Uttarakhand_Medical_Education_University\n",
      "\n",
      "University Name: Kumaun University\n",
      "Wikipedia link: https://en.wikipedia.org//wiki/Kumaun_University\n",
      "\n",
      "University Name: Soban Singh Jeena University\n",
      "Wikipedia link: https://en.wikipedia.org//wiki/Soban_Singh_Jeena_University\n",
      "\n",
      "University Name: Sri Dev Suman Uttarakhand University\n",
      "Wikipedia link: https://en.wikipedia.org//wiki/Sri_Dev_Suman_Uttarakhand_University\n",
      "\n",
      "University Name: Uttarakhand Ayurved University\n",
      "Wikipedia link: https://en.wikipedia.org//wiki/Uttarakhand_Ayurved_University\n",
      "\n",
      "University Name: Uttarakhand Open University\n",
      "Wikipedia link: https://en.wikipedia.org//wiki/Uttarakhand_Open_University\n",
      "\n",
      "University Name: Uttarakhand Residential University\n",
      "Wikipedia link: https://en.wikipedia.org//wiki/Uttarakhand_Residential_University\n",
      "\n",
      "University Name: Uttarakhand Sanskrit University\n",
      "Wikipedia link: https://en.wikipedia.org//wiki/Uttarakhand_Sanskrit_University\n",
      "\n",
      "University Name: Uttarakhand Technical University\n",
      "Wikipedia link: https://en.wikipedia.org//wiki/Uttarakhand_Technical_University\n",
      "\n",
      "University Name: Veer Chandra Singh Garhwali Uttarakhand University of Horticulture and Forestry\n",
      "Wikipedia link: https://en.wikipedia.org//wiki/Veer_Chandra_Singh_Garhwali_Uttarakhand_University_of_Horticulture_and_Forestry\n",
      "\n",
      "University Name: Bhagwant Global University\n",
      "Wikipedia link: https://en.wikipedia.org//wiki/Bhagwant_Global_University\n",
      "\n",
      "University Name: DIT University\n",
      "Wikipedia link: https://en.wikipedia.org//wiki/DIT_University\n",
      "\n",
      "University Name: Dev Sanskriti Vishwavidyalaya\n",
      "Wikipedia link: https://en.wikipedia.org//wiki/Dev_Sanskriti_Vishwavidyalaya\n",
      "\n",
      "University Name: Graphic Era Hill University\n",
      "Wikipedia link: https://en.wikipedia.org//wiki/Graphic_Era_Hill_University\n",
      "\n",
      "University Name: Himalayan Garhwal University\n",
      "Wikipedia link: https://en.wikipedia.org//wiki/Himalayan_Garhwal_University\n",
      "\n",
      "University Name: Himgiri Zee University\n",
      "Wikipedia link: https://en.wikipedia.org//wiki/Himgiri_Zee_University\n",
      "\n",
      "University Name: ICFAI University, Dehradun\n",
      "Wikipedia link: https://en.wikipedia.org//wiki/ICFAI_University,_Dehradun\n",
      "\n",
      "University Name: IMS Unison University\n",
      "Wikipedia link: https://en.wikipedia.org//wiki/IMS_Unison_University\n",
      "\n",
      "University Name: Motherhood University\n",
      "Wikipedia link: https://en.wikipedia.org//wiki/Motherhood_University\n",
      "\n",
      "University Name: Quantum University\n",
      "Wikipedia link: https://en.wikipedia.org//wiki/Quantum_University\n",
      "\n",
      "University Name: Ras Bihari Bose Subharti University\n",
      "Wikipedia link: https://en.wikipedia.org//wiki/Ras_Bihari_Bose_Subharti_University\n",
      "\n",
      "University Name: Shri Guru Ram Rai University\n",
      "Wikipedia link: https://en.wikipedia.org//wiki/Shri_Guru_Ram_Rai_University\n",
      "\n",
      "University Name: Swami Rama Himalayan University\n",
      "Wikipedia link: https://en.wikipedia.org//wiki/Swami_Rama_Himalayan_University\n",
      "\n",
      "University Name: University of Patanjali\n",
      "Wikipedia link: https://en.wikipedia.org//wiki/University_of_Patanjali\n",
      "\n",
      "University Name: University of Petroleum and Energy Studies\n",
      "Wikipedia link: https://en.wikipedia.org//wiki/University_of_Petroleum_and_Energy_Studies\n",
      "\n",
      "University Name: Uttaranchal University\n",
      "Wikipedia link: https://en.wikipedia.org//wiki/Uttaranchal_University\n",
      "\n",
      "University Name: Forest Research Institute (India)\n",
      "Wikipedia link: https://en.wikipedia.org//wiki/Forest_Research_Institute_(India)\n",
      "\n",
      "University Name: Gurukul Kangri University\n",
      "Wikipedia link: https://en.wikipedia.org//wiki/Gurukul_Kangri_University\n",
      "\n"
     ]
    }
   ],
   "source": [
    "print(f'Total Number of Universities: {len(universities)}\\n')\n",
    "for uni in universities:\n",
    "    print(f'University Name: {uni[1]}')\n",
    "    print(f'Wikipedia link: {uni[0]}\\n')"
   ]
  },
  {
   "cell_type": "markdown",
   "id": "1c52309e",
   "metadata": {},
   "source": [
    "## Note: You can also save the universities data in csv or json format."
   ]
  }
 ],
 "metadata": {
  "kernelspec": {
   "display_name": "Python 3 (ipykernel)",
   "language": "python",
   "name": "python3"
  },
  "language_info": {
   "codemirror_mode": {
    "name": "ipython",
    "version": 3
   },
   "file_extension": ".py",
   "mimetype": "text/x-python",
   "name": "python",
   "nbconvert_exporter": "python",
   "pygments_lexer": "ipython3",
   "version": "3.9.13"
  }
 },
 "nbformat": 4,
 "nbformat_minor": 5
}
